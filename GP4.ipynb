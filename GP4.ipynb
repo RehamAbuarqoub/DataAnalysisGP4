{
 "cells": [
  {
   "cell_type": "markdown",
   "id": "17527917",
   "metadata": {},
   "source": [
    "# 🚀 Space Launch Mission Success Analysis\n",
    "##  Group Presentation 4\n",
    "\n",
    "**Team Members:**  \n",
    "- Reham Abuarqoub, 9062922\n",
    "- Erica Holden, 5490685\n",
    "- Yu-Chen Chou (Tracy), 9006160 \n",
    "\n"
   ]
  },
  {
   "cell_type": "markdown",
   "id": "09bea279",
   "metadata": {},
   "source": [
    "#  Term Project - Space Mission Dataset Extension\n",
    "\n",
    "## Summary of Use Case\n",
    "\n",
    "We extended our term project by integrating a new dataset: **Global Space Mission Launches**. This data provides historical records of launch events, locations, companies, rocket types, and success status. We aim to analyze patterns and factors influencing mission outcomes. \n",
    "\n",
    "**Revised Hypothesis**  \n",
    "**Null (H0):** The rocket cost and company do *not* significantly affect mission success.  \n",
    "**Alternative (H1):** The rocket cost and company *do* significantly affect mission success.\n",
    "\n",
    "This hypothesis update will guide our feature analysis and predictive modeling.\n",
    "\n"
   ]
  },
  {
   "cell_type": "code",
   "execution_count": 98,
   "id": "db9aad3c",
   "metadata": {},
   "outputs": [],
   "source": [
    "#  Imports\n",
    "import pandas as pd\n",
    "import numpy as np\n",
    "from sklearn.feature_selection import VarianceThreshold\n",
    "from sklearn.ensemble import RandomForestClassifier\n",
    "from sklearn.decomposition import PCA\n",
    "from sklearn.preprocessing import LabelEncoder, StandardScaler\n",
    "from sklearn.feature_selection import RFE\n",
    "from sklearn.feature_selection import SequentialFeatureSelector"
   ]
  },
  {
   "cell_type": "markdown",
   "id": "cacc86da",
   "metadata": {},
   "source": [
    "## Load and Clean Data\n"
   ]
  },
  {
   "cell_type": "code",
   "execution_count": 99,
   "id": "0791395f",
   "metadata": {},
   "outputs": [
    {
     "data": {
      "application/vnd.microsoft.datawrangler.viewer.v0+json": {
       "columns": [
        {
         "name": "index",
         "rawType": "int64",
         "type": "integer"
        },
        {
         "name": "Company Name",
         "rawType": "object",
         "type": "string"
        },
        {
         "name": "Location",
         "rawType": "object",
         "type": "string"
        },
        {
         "name": "Datum",
         "rawType": "datetime64[ns, UTC]",
         "type": "unknown"
        },
        {
         "name": "Detail",
         "rawType": "object",
         "type": "string"
        },
        {
         "name": "Status Rocket",
         "rawType": "object",
         "type": "string"
        },
        {
         "name": "Rocket",
         "rawType": "float64",
         "type": "float"
        },
        {
         "name": "Status Mission",
         "rawType": "object",
         "type": "string"
        },
        {
         "name": "Success",
         "rawType": "int64",
         "type": "integer"
        },
        {
         "name": "Company Code",
         "rawType": "int64",
         "type": "integer"
        }
       ],
       "ref": "d96dcf21-8ba6-4acd-80d8-6b2ccb646a33",
       "rows": [
        [
         "0",
         "SpaceX",
         "LC-39A, Kennedy Space Center, Florida, USA",
         "2020-08-07 05:12:00+00:00",
         "Falcon 9 Block 5 | Starlink V1 L9 & BlackSky",
         "StatusActive",
         "50.0",
         "Success",
         "1",
         "18"
        ],
        [
         "1",
         "CASC",
         "Site 9401 (SLS-2), Jiuquan Satellite Launch Center, China",
         "2020-08-06 04:01:00+00:00",
         "Long March 2D | Gaofen-9 04 & Q-SAT",
         "StatusActive",
         "29.75",
         "Success",
         "1",
         "2"
        ],
        [
         "3",
         "Roscosmos",
         "Site 200/39, Baikonur Cosmodrome, Kazakhstan",
         "2020-07-30 21:25:00+00:00",
         "Proton-M/Briz-M | Ekspress-80 & Ekspress-103",
         "StatusActive",
         "65.0",
         "Success",
         "1",
         "17"
        ],
        [
         "4",
         "ULA",
         "SLC-41, Cape Canaveral AFS, Florida, USA",
         "2020-07-30 11:50:00+00:00",
         "Atlas V 541 | Perseverance",
         "StatusActive",
         "145.0",
         "Success",
         "1",
         "19"
        ],
        [
         "5",
         "CASC",
         "LC-9, Taiyuan Satellite Launch Center, China",
         "2020-07-25 03:13:00+00:00",
         "Long March 4B | Ziyuan-3 03, Apocalypse-10 & NJU-HKU 1",
         "StatusActive",
         "64.68",
         "Success",
         "1",
         "2"
        ]
       ],
       "shape": {
        "columns": 9,
        "rows": 5
       }
      },
      "text/html": [
       "<div>\n",
       "<style scoped>\n",
       "    .dataframe tbody tr th:only-of-type {\n",
       "        vertical-align: middle;\n",
       "    }\n",
       "\n",
       "    .dataframe tbody tr th {\n",
       "        vertical-align: top;\n",
       "    }\n",
       "\n",
       "    .dataframe thead th {\n",
       "        text-align: right;\n",
       "    }\n",
       "</style>\n",
       "<table border=\"1\" class=\"dataframe\">\n",
       "  <thead>\n",
       "    <tr style=\"text-align: right;\">\n",
       "      <th></th>\n",
       "      <th>Company Name</th>\n",
       "      <th>Location</th>\n",
       "      <th>Datum</th>\n",
       "      <th>Detail</th>\n",
       "      <th>Status Rocket</th>\n",
       "      <th>Rocket</th>\n",
       "      <th>Status Mission</th>\n",
       "      <th>Success</th>\n",
       "      <th>Company Code</th>\n",
       "    </tr>\n",
       "  </thead>\n",
       "  <tbody>\n",
       "    <tr>\n",
       "      <th>0</th>\n",
       "      <td>SpaceX</td>\n",
       "      <td>LC-39A, Kennedy Space Center, Florida, USA</td>\n",
       "      <td>2020-08-07 05:12:00+00:00</td>\n",
       "      <td>Falcon 9 Block 5 | Starlink V1 L9 &amp; BlackSky</td>\n",
       "      <td>StatusActive</td>\n",
       "      <td>50.00</td>\n",
       "      <td>Success</td>\n",
       "      <td>1</td>\n",
       "      <td>18</td>\n",
       "    </tr>\n",
       "    <tr>\n",
       "      <th>1</th>\n",
       "      <td>CASC</td>\n",
       "      <td>Site 9401 (SLS-2), Jiuquan Satellite Launch Ce...</td>\n",
       "      <td>2020-08-06 04:01:00+00:00</td>\n",
       "      <td>Long March 2D | Gaofen-9 04 &amp; Q-SAT</td>\n",
       "      <td>StatusActive</td>\n",
       "      <td>29.75</td>\n",
       "      <td>Success</td>\n",
       "      <td>1</td>\n",
       "      <td>2</td>\n",
       "    </tr>\n",
       "    <tr>\n",
       "      <th>3</th>\n",
       "      <td>Roscosmos</td>\n",
       "      <td>Site 200/39, Baikonur Cosmodrome, Kazakhstan</td>\n",
       "      <td>2020-07-30 21:25:00+00:00</td>\n",
       "      <td>Proton-M/Briz-M | Ekspress-80 &amp; Ekspress-103</td>\n",
       "      <td>StatusActive</td>\n",
       "      <td>65.00</td>\n",
       "      <td>Success</td>\n",
       "      <td>1</td>\n",
       "      <td>17</td>\n",
       "    </tr>\n",
       "    <tr>\n",
       "      <th>4</th>\n",
       "      <td>ULA</td>\n",
       "      <td>SLC-41, Cape Canaveral AFS, Florida, USA</td>\n",
       "      <td>2020-07-30 11:50:00+00:00</td>\n",
       "      <td>Atlas V 541 | Perseverance</td>\n",
       "      <td>StatusActive</td>\n",
       "      <td>145.00</td>\n",
       "      <td>Success</td>\n",
       "      <td>1</td>\n",
       "      <td>19</td>\n",
       "    </tr>\n",
       "    <tr>\n",
       "      <th>5</th>\n",
       "      <td>CASC</td>\n",
       "      <td>LC-9, Taiyuan Satellite Launch Center, China</td>\n",
       "      <td>2020-07-25 03:13:00+00:00</td>\n",
       "      <td>Long March 4B | Ziyuan-3 03, Apocalypse-10 &amp; N...</td>\n",
       "      <td>StatusActive</td>\n",
       "      <td>64.68</td>\n",
       "      <td>Success</td>\n",
       "      <td>1</td>\n",
       "      <td>2</td>\n",
       "    </tr>\n",
       "  </tbody>\n",
       "</table>\n",
       "</div>"
      ],
      "text/plain": [
       "  Company Name                                           Location  \\\n",
       "0       SpaceX         LC-39A, Kennedy Space Center, Florida, USA   \n",
       "1         CASC  Site 9401 (SLS-2), Jiuquan Satellite Launch Ce...   \n",
       "3    Roscosmos       Site 200/39, Baikonur Cosmodrome, Kazakhstan   \n",
       "4          ULA           SLC-41, Cape Canaveral AFS, Florida, USA   \n",
       "5         CASC       LC-9, Taiyuan Satellite Launch Center, China   \n",
       "\n",
       "                      Datum  \\\n",
       "0 2020-08-07 05:12:00+00:00   \n",
       "1 2020-08-06 04:01:00+00:00   \n",
       "3 2020-07-30 21:25:00+00:00   \n",
       "4 2020-07-30 11:50:00+00:00   \n",
       "5 2020-07-25 03:13:00+00:00   \n",
       "\n",
       "                                              Detail Status Rocket  Rocket  \\\n",
       "0       Falcon 9 Block 5 | Starlink V1 L9 & BlackSky  StatusActive   50.00   \n",
       "1                Long March 2D | Gaofen-9 04 & Q-SAT  StatusActive   29.75   \n",
       "3       Proton-M/Briz-M | Ekspress-80 & Ekspress-103  StatusActive   65.00   \n",
       "4                         Atlas V 541 | Perseverance  StatusActive  145.00   \n",
       "5  Long March 4B | Ziyuan-3 03, Apocalypse-10 & N...  StatusActive   64.68   \n",
       "\n",
       "  Status Mission  Success  Company Code  \n",
       "0        Success        1            18  \n",
       "1        Success        1             2  \n",
       "3        Success        1            17  \n",
       "4        Success        1            19  \n",
       "5        Success        1             2  "
      ]
     },
     "execution_count": 99,
     "metadata": {},
     "output_type": "execute_result"
    }
   ],
   "source": [
    "import pandas as pd\n",
    "from sklearn.preprocessing import LabelEncoder\n",
    "\n",
    "class SpaceMissionCleaner:\n",
    "    def __init__(self, filepath):\n",
    "        self.df = pd.read_csv(filepath)\n",
    "\n",
    "    def clean(self):\n",
    "        df = self.df.copy()\n",
    "        df.columns = df.columns.str.strip()\n",
    "        df.drop(columns=['Unnamed: 0', 'Unnamed: 0.1'], inplace=True, errors='ignore')\n",
    "        df['Datum'] = pd.to_datetime(df['Datum'], errors='coerce')\n",
    "        df.dropna(inplace=True)\n",
    "        df['Rocket'] = pd.to_numeric(df['Rocket'], errors='coerce')\n",
    "        df = df[df['Rocket'] > 0]\n",
    "        df['Success'] = df['Status Mission'].apply(lambda x: 1 if 'Success' in x else 0)\n",
    "        df['Company Code'] = LabelEncoder().fit_transform(df['Company Name'])\n",
    "        return df\n",
    "\n",
    "cleaner = SpaceMissionCleaner(\"./data/Space_Corrected.csv\")\n",
    "df_clean = cleaner.clean()\n",
    "df_clean.head()"
   ]
  },
  {
   "cell_type": "markdown",
   "id": "9af9fee2",
   "metadata": {},
   "source": [
    "## Step 2: Missing Values Ratio"
   ]
  },
  {
   "cell_type": "code",
   "execution_count": 100,
   "id": "45270b7d",
   "metadata": {},
   "outputs": [
    {
     "name": "stdout",
     "output_type": "stream",
     "text": [
      "Missing values ratio per column:\n",
      " Company Name      0.0\n",
      "Location          0.0\n",
      "Datum             0.0\n",
      "Detail            0.0\n",
      "Status Rocket     0.0\n",
      "Rocket            0.0\n",
      "Status Mission    0.0\n",
      "Success           0.0\n",
      "Company Code      0.0\n",
      "dtype: float64\n"
     ]
    }
   ],
   "source": [
    "missing_ratio = df_clean.isnull().mean()\n",
    "print(\"Missing values ratio per column:\\n\", missing_ratio)"
   ]
  },
  {
   "cell_type": "markdown",
   "id": "4b016bc8",
   "metadata": {},
   "source": [
    " All missing values were dropped in cleaning. Dataset is now complete."
   ]
  },
  {
   "cell_type": "markdown",
   "id": "b5771cf7",
   "metadata": {},
   "source": [
    "## Step 3: Low Variance Filter"
   ]
  },
  {
   "cell_type": "code",
   "execution_count": 101,
   "id": "1fe8c10a",
   "metadata": {},
   "outputs": [
    {
     "data": {
      "application/vnd.microsoft.datawrangler.viewer.v0+json": {
       "columns": [
        {
         "name": "index",
         "rawType": "int64",
         "type": "integer"
        },
        {
         "name": "Rocket",
         "rawType": "float64",
         "type": "float"
        },
        {
         "name": "Company Code",
         "rawType": "float64",
         "type": "float"
        }
       ],
       "ref": "6e7337d3-1958-4426-891a-ad001bdd7369",
       "rows": [
        [
         "0",
         "50.0",
         "18.0"
        ],
        [
         "1",
         "29.75",
         "2.0"
        ],
        [
         "2",
         "65.0",
         "17.0"
        ],
        [
         "3",
         "145.0",
         "19.0"
        ],
        [
         "4",
         "64.68",
         "2.0"
        ]
       ],
       "shape": {
        "columns": 2,
        "rows": 5
       }
      },
      "text/html": [
       "<div>\n",
       "<style scoped>\n",
       "    .dataframe tbody tr th:only-of-type {\n",
       "        vertical-align: middle;\n",
       "    }\n",
       "\n",
       "    .dataframe tbody tr th {\n",
       "        vertical-align: top;\n",
       "    }\n",
       "\n",
       "    .dataframe thead th {\n",
       "        text-align: right;\n",
       "    }\n",
       "</style>\n",
       "<table border=\"1\" class=\"dataframe\">\n",
       "  <thead>\n",
       "    <tr style=\"text-align: right;\">\n",
       "      <th></th>\n",
       "      <th>Rocket</th>\n",
       "      <th>Company Code</th>\n",
       "    </tr>\n",
       "  </thead>\n",
       "  <tbody>\n",
       "    <tr>\n",
       "      <th>0</th>\n",
       "      <td>50.00</td>\n",
       "      <td>18.0</td>\n",
       "    </tr>\n",
       "    <tr>\n",
       "      <th>1</th>\n",
       "      <td>29.75</td>\n",
       "      <td>2.0</td>\n",
       "    </tr>\n",
       "    <tr>\n",
       "      <th>2</th>\n",
       "      <td>65.00</td>\n",
       "      <td>17.0</td>\n",
       "    </tr>\n",
       "    <tr>\n",
       "      <th>3</th>\n",
       "      <td>145.00</td>\n",
       "      <td>19.0</td>\n",
       "    </tr>\n",
       "    <tr>\n",
       "      <th>4</th>\n",
       "      <td>64.68</td>\n",
       "      <td>2.0</td>\n",
       "    </tr>\n",
       "  </tbody>\n",
       "</table>\n",
       "</div>"
      ],
      "text/plain": [
       "   Rocket  Company Code\n",
       "0   50.00          18.0\n",
       "1   29.75           2.0\n",
       "2   65.00          17.0\n",
       "3  145.00          19.0\n",
       "4   64.68           2.0"
      ]
     },
     "execution_count": 101,
     "metadata": {},
     "output_type": "execute_result"
    }
   ],
   "source": [
    "from sklearn.feature_selection import VarianceThreshold\n",
    "\n",
    "class LowVariance:\n",
    "    def __init__(self, df):\n",
    "        self.df = df[['Rocket', 'Company Code']]\n",
    "\n",
    "    def filter(self, threshold=0.01):\n",
    "        selector = VarianceThreshold(threshold)\n",
    "        reduced = selector.fit_transform(self.df)\n",
    "        return pd.DataFrame(reduced, columns=self.df.columns[selector.get_support()])\n",
    "\n",
    "lv = LowVariance(df_clean)\n",
    "df_low_var = lv.filter()\n",
    "df_low_var.head()"
   ]
  },
  {
   "cell_type": "markdown",
   "id": "bb88f4cf",
   "metadata": {},
   "source": [
    "## Step 4: High Correlation Filter"
   ]
  },
  {
   "cell_type": "code",
   "execution_count": 102,
   "id": "29c6a165",
   "metadata": {},
   "outputs": [
    {
     "data": {
      "application/vnd.microsoft.datawrangler.viewer.v0+json": {
       "columns": [
        {
         "name": "index",
         "rawType": "int64",
         "type": "integer"
        },
        {
         "name": "Rocket",
         "rawType": "float64",
         "type": "float"
        },
        {
         "name": "Company Code",
         "rawType": "float64",
         "type": "float"
        }
       ],
       "ref": "bedad3a1-4b48-4e1e-b6b2-c056529acb76",
       "rows": [
        [
         "0",
         "50.0",
         "18.0"
        ],
        [
         "1",
         "29.75",
         "2.0"
        ],
        [
         "2",
         "65.0",
         "17.0"
        ],
        [
         "3",
         "145.0",
         "19.0"
        ],
        [
         "4",
         "64.68",
         "2.0"
        ]
       ],
       "shape": {
        "columns": 2,
        "rows": 5
       }
      },
      "text/html": [
       "<div>\n",
       "<style scoped>\n",
       "    .dataframe tbody tr th:only-of-type {\n",
       "        vertical-align: middle;\n",
       "    }\n",
       "\n",
       "    .dataframe tbody tr th {\n",
       "        vertical-align: top;\n",
       "    }\n",
       "\n",
       "    .dataframe thead th {\n",
       "        text-align: right;\n",
       "    }\n",
       "</style>\n",
       "<table border=\"1\" class=\"dataframe\">\n",
       "  <thead>\n",
       "    <tr style=\"text-align: right;\">\n",
       "      <th></th>\n",
       "      <th>Rocket</th>\n",
       "      <th>Company Code</th>\n",
       "    </tr>\n",
       "  </thead>\n",
       "  <tbody>\n",
       "    <tr>\n",
       "      <th>0</th>\n",
       "      <td>50.00</td>\n",
       "      <td>18.0</td>\n",
       "    </tr>\n",
       "    <tr>\n",
       "      <th>1</th>\n",
       "      <td>29.75</td>\n",
       "      <td>2.0</td>\n",
       "    </tr>\n",
       "    <tr>\n",
       "      <th>2</th>\n",
       "      <td>65.00</td>\n",
       "      <td>17.0</td>\n",
       "    </tr>\n",
       "    <tr>\n",
       "      <th>3</th>\n",
       "      <td>145.00</td>\n",
       "      <td>19.0</td>\n",
       "    </tr>\n",
       "    <tr>\n",
       "      <th>4</th>\n",
       "      <td>64.68</td>\n",
       "      <td>2.0</td>\n",
       "    </tr>\n",
       "  </tbody>\n",
       "</table>\n",
       "</div>"
      ],
      "text/plain": [
       "   Rocket  Company Code\n",
       "0   50.00          18.0\n",
       "1   29.75           2.0\n",
       "2   65.00          17.0\n",
       "3  145.00          19.0\n",
       "4   64.68           2.0"
      ]
     },
     "execution_count": 102,
     "metadata": {},
     "output_type": "execute_result"
    }
   ],
   "source": [
    "import numpy as np\n",
    "\n",
    "class HighCorr:\n",
    "    def __init__(self, df):\n",
    "        self.df = df\n",
    "\n",
    "    def filter(self, threshold=0.95):\n",
    "        corr = self.df.corr().abs()\n",
    "        upper = corr.where(np.triu(np.ones(corr.shape), k=1).astype(bool))\n",
    "        to_drop = [col for col in upper.columns if any(upper[col] > threshold)]\n",
    "        return self.df.drop(columns=to_drop)\n",
    "    \n",
    "\n",
    "hc = HighCorr(df_low_var)\n",
    "df_uncorrelated = hc.filter()\n",
    "df_uncorrelated.head()"
   ]
  },
  {
   "cell_type": "markdown",
   "id": "d7348867",
   "metadata": {},
   "source": [
    "## Step 5: Principal Component Analysis (PCA)"
   ]
  },
  {
   "cell_type": "code",
   "execution_count": 103,
   "id": "359c78ac",
   "metadata": {},
   "outputs": [
    {
     "data": {
      "application/vnd.microsoft.datawrangler.viewer.v0+json": {
       "columns": [
        {
         "name": "index",
         "rawType": "int64",
         "type": "integer"
        },
        {
         "name": "PC1",
         "rawType": "float64",
         "type": "float"
        },
        {
         "name": "PC2",
         "rawType": "float64",
         "type": "float"
        }
       ],
       "ref": "2a80ef8b-b16a-4d93-8199-06415cac7f88",
       "rows": [
        [
         "0",
         "0.29220164836669954",
         "-1.085736264208443"
        ],
        [
         "1",
         "-1.4136041971720759",
         "0.420311316011123"
        ],
        [
         "2",
         "0.26581577152256913",
         "-0.911381301942677"
        ],
        [
         "3",
         "0.8611408384234935",
         "-0.7175379132615448"
        ],
        [
         "4",
         "-1.2413188587128183",
         "0.5925966544703809"
        ]
       ],
       "shape": {
        "columns": 2,
        "rows": 5
       }
      },
      "text/html": [
       "<div>\n",
       "<style scoped>\n",
       "    .dataframe tbody tr th:only-of-type {\n",
       "        vertical-align: middle;\n",
       "    }\n",
       "\n",
       "    .dataframe tbody tr th {\n",
       "        vertical-align: top;\n",
       "    }\n",
       "\n",
       "    .dataframe thead th {\n",
       "        text-align: right;\n",
       "    }\n",
       "</style>\n",
       "<table border=\"1\" class=\"dataframe\">\n",
       "  <thead>\n",
       "    <tr style=\"text-align: right;\">\n",
       "      <th></th>\n",
       "      <th>PC1</th>\n",
       "      <th>PC2</th>\n",
       "    </tr>\n",
       "  </thead>\n",
       "  <tbody>\n",
       "    <tr>\n",
       "      <th>0</th>\n",
       "      <td>0.292202</td>\n",
       "      <td>-1.085736</td>\n",
       "    </tr>\n",
       "    <tr>\n",
       "      <th>1</th>\n",
       "      <td>-1.413604</td>\n",
       "      <td>0.420311</td>\n",
       "    </tr>\n",
       "    <tr>\n",
       "      <th>2</th>\n",
       "      <td>0.265816</td>\n",
       "      <td>-0.911381</td>\n",
       "    </tr>\n",
       "    <tr>\n",
       "      <th>3</th>\n",
       "      <td>0.861141</td>\n",
       "      <td>-0.717538</td>\n",
       "    </tr>\n",
       "    <tr>\n",
       "      <th>4</th>\n",
       "      <td>-1.241319</td>\n",
       "      <td>0.592597</td>\n",
       "    </tr>\n",
       "  </tbody>\n",
       "</table>\n",
       "</div>"
      ],
      "text/plain": [
       "        PC1       PC2\n",
       "0  0.292202 -1.085736\n",
       "1 -1.413604  0.420311\n",
       "2  0.265816 -0.911381\n",
       "3  0.861141 -0.717538\n",
       "4 -1.241319  0.592597"
      ]
     },
     "execution_count": 103,
     "metadata": {},
     "output_type": "execute_result"
    }
   ],
   "source": [
    "from sklearn.preprocessing import StandardScaler\n",
    "from sklearn.decomposition import PCA\n",
    "\n",
    "class PCAReduction:\n",
    "    def __init__(self, df):\n",
    "        self.df = df\n",
    "\n",
    "    def transform(self):\n",
    "        X_scaled = StandardScaler().fit_transform(self.df)\n",
    "        pca = PCA(n_components=2)\n",
    "        return pd.DataFrame(pca.fit_transform(X_scaled), columns=['PC1', 'PC2'])\n",
    "\n",
    "pca_obj = PCAReduction(df_uncorrelated)\n",
    "df_pca = pca_obj.transform()\n",
    "df_pca.head()"
   ]
  },
  {
   "cell_type": "markdown",
   "id": "5f494191",
   "metadata": {},
   "source": [
    "## Step 6: Random Forest Importance"
   ]
  },
  {
   "cell_type": "code",
   "execution_count": 104,
   "id": "e0340aec",
   "metadata": {},
   "outputs": [
    {
     "name": "stdout",
     "output_type": "stream",
     "text": [
      "Rocket          0.648024\n",
      "Company Code    0.351976\n",
      "dtype: float64\n"
     ]
    }
   ],
   "source": [
    "from sklearn.ensemble import RandomForestClassifier\n",
    "\n",
    "class RFImportance:\n",
    "    def __init__(self, X, y):\n",
    "        self.X = X.reset_index(drop=True)\n",
    "        self.y = y.reset_index(drop=True)\n",
    "\n",
    "    def rank(self):\n",
    "        model = RandomForestClassifier(random_state=42)\n",
    "        model.fit(self.X, self.y)\n",
    "        return pd.Series(model.feature_importances_, index=self.X.columns).sort_values(ascending=False)\n",
    "\n",
    "rf = RFImportance(df_uncorrelated, df_clean['Success'])\n",
    "rf_importance = rf.rank()\n",
    "print(rf_importance)"
   ]
  },
  {
   "cell_type": "markdown",
   "id": "12fc4517",
   "metadata": {},
   "source": [
    "## Step 7: Backward/Forward Feature Elimination/Selection\n",
    "(1) Backward feature elimination\n",
    "\n",
    "Use Random Forest + Recursive Feature Elimination (RFE) models to reduce features gradually.\n"
   ]
  },
  {
   "cell_type": "code",
   "execution_count": 105,
   "id": "b77df0e1",
   "metadata": {},
   "outputs": [
    {
     "name": "stdout",
     "output_type": "stream",
     "text": [
      "Selected by backward elimination: ['Rocket']\n"
     ]
    }
   ],
   "source": [
    "from sklearn.feature_selection import RFE\n",
    "\n",
    "class RFBackwardSelector:\n",
    "    def __init__(self, X, y, n_features_to_select=2):\n",
    "        self.X = X.reset_index(drop=True)\n",
    "        self.y = y.reset_index(drop=True)\n",
    "        self.n_features_to_select = n_features_to_select\n",
    "\n",
    "    def select(self):\n",
    "        model = RandomForestClassifier(random_state=42)\n",
    "        # Recursive Feature Elimination\n",
    "        selector = RFE(model, n_features_to_select=self.n_features_to_select, step=1)\n",
    "        selector = selector.fit(self.X, self.y)\n",
    "        support_mask = selector.get_support()\n",
    "        selected_features = self.X.columns[support_mask]\n",
    "        return selected_features.tolist()\n",
    "\n",
    "rf_bs = RFBackwardSelector(df_uncorrelated, df_clean['Success'], n_features_to_select=1)\n",
    "selected_features = rf_bs.select()\n",
    "print(\"Selected by backward elimination:\", selected_features)"
   ]
  },
  {
   "cell_type": "markdown",
   "id": "cd51e6c7",
   "metadata": {},
   "source": [
    "(2) Forward feature selection\n",
    "\n",
    "Use Random Forest + SequentialFeatureSelector models to add features gradually."
   ]
  },
  {
   "cell_type": "code",
   "execution_count": 106,
   "id": "08323f12",
   "metadata": {},
   "outputs": [
    {
     "name": "stdout",
     "output_type": "stream",
     "text": [
      "Selected by forward selection: ['Company Code']\n"
     ]
    }
   ],
   "source": [
    "from sklearn.feature_selection import SequentialFeatureSelector\n",
    "\n",
    "class RFForwardSelector:\n",
    "    def __init__(self, X, y, n_features_to_select=2):\n",
    "        self.X = X.reset_index(drop=True)\n",
    "        self.y = y.reset_index(drop=True)\n",
    "        self.n_features_to_select = n_features_to_select\n",
    "\n",
    "    def select(self):\n",
    "        # n_features = self.X.shape[1]\n",
    "        # # Automatically adjust the number of features to be selected. The maximum number of features to be selected is the total number of features - 1, and the minimum number of features to be selected is 1\n",
    "        # if n_features <= 1:\n",
    "        #     raise ValueError(\"Too few features, forward selection is not possible.\")\n",
    "        # n_select = min(self.n_features_to_select, n_features - 1)\n",
    "\n",
    "        model = RandomForestClassifier(random_state=42)\n",
    "        selector = SequentialFeatureSelector(\n",
    "            model,\n",
    "            n_features_to_select=self.n_features_to_select,\n",
    "            direction=\"forward\"\n",
    "        )\n",
    "        selector.fit(self.X, self.y)\n",
    "        support_mask = selector.get_support()\n",
    "        selected_features = self.X.columns[support_mask]\n",
    "        return selected_features.tolist()\n",
    "\n",
    "rf_fs = RFForwardSelector(df_uncorrelated, df_clean['Success'], n_features_to_select=1)\n",
    "selected_features = rf_fs.select()\n",
    "print(\"Selected by forward selection:\", selected_features)"
   ]
  },
  {
   "cell_type": "markdown",
   "id": "a4105c6e",
   "metadata": {},
   "source": [
    "##  Hypothesis Testing Summary\n",
    "\n",
    "### Null Hypothesis (H₀):\n",
    "Rocket cost and company identity **do not significantly affect** mission success.\n",
    "\n",
    "### Alternative Hypothesis (H₁):\n",
    "Rocket cost and company identity **do significantly affect** mission success.\n",
    "\n",
    "\n",
    "\n",
    "###  Conclusion: **Reject the Null Hypothesis**\n",
    "\n",
    "Based on the results from our feature importance analysis:\n",
    "\n",
    "- **Random Forest Feature Importance** showed that the `Rocket` feature had the highest influence on mission success.\n",
    "- **Backward/Forward Feature Elimination/Selection** \n",
    "    - Backward elimination is `Rocket`. Most useful for predicting the Success variable (whether the launch mission was successful).\n",
    "    - Forward selection is `Company Code`, because the ‘Company Code’ has the greatest contribution (highest accuracy).\n",
    "\n",
    "These consistent findings across two independent methods provide strong evidence to **reject the null hypothesis** and **accept the alternative**:  \n",
    " *Rocket cost and company identity significantly influence mission success.*\n",
    "\n",
    "---\n",
    "\n",
    "###  Why This Matters:\n",
    "By identifying key drivers of successful missions, organizations can prioritize spending, optimize launch conditions, and reduce risk.\n"
   ]
  },
  {
   "cell_type": "markdown",
   "id": "0fd819cc",
   "metadata": {},
   "source": [
    "We expanded our project with an enriched dataset containing global space launches. Our goal is to identify what influences mission success. After cleaning the dataset, we focused on numerical features like rocket cost and company name. Through PCA, random forest, and backward/forward feature elimination/selection, we confirmed rocket cost plays a major role in success prediction. This insight helps organizations reduce failure risk. The dataset is now clean, reduced, and ready for modeling. Our hypothesis testing and analysis provide actionable intelligence for space mission planning.\n"
   ]
  }
 ],
 "metadata": {
  "kernelspec": {
   "display_name": "base",
   "language": "python",
   "name": "python3"
  },
  "language_info": {
   "codemirror_mode": {
    "name": "ipython",
    "version": 3
   },
   "file_extension": ".py",
   "mimetype": "text/x-python",
   "name": "python",
   "nbconvert_exporter": "python",
   "pygments_lexer": "ipython3",
   "version": "3.12.7"
  }
 },
 "nbformat": 4,
 "nbformat_minor": 5
}
